{
 "metadata": {
  "kernelspec": {
   "display_name": "Python 2",
   "language": "python",
   "name": "python2"
  },
  "language_info": {
   "codemirror_mode": {
    "name": "ipython",
    "version": 2
   },
   "file_extension": ".py",
   "mimetype": "text/x-python",
   "name": "python",
   "nbconvert_exporter": "python",
   "pygments_lexer": "ipython2",
   "version": "2.7.12"
  },
  "name": "",
  "signature": "sha256:5f50e5f2ee2444139fa1d583360c36c5fc15ae49ad3f0fefc52dac7dd4a0c6de"
 },
 "nbformat": 3,
 "nbformat_minor": 0,
 "worksheets": [
  {
   "cells": [
    {
     "cell_type": "markdown",
     "metadata": {
      "collapsed": true
     },
     "source": [
      "# Image Classification\n",
      "In this project, you'll classify images from the [CIFAR-10 dataset](https://www.cs.toronto.edu/~kriz/cifar.html).  The dataset consists of airplanes, dogs, cats, and other objects. You'll preprocess the images, then train a convolutional neural network on all the samples. The images need to be normalized and the labels need to be one-hot encoded.  You'll get to apply what you learned and build a convolutional, max pooling, dropout, and fully connected layers.  At the end, you'll get to see your neural network's predictions on the sample images.\n",
      "## Get the Data\n",
      "Run the following cell to download the [CIFAR-10 dataset for python](https://www.cs.toronto.edu/~kriz/cifar-10-python.tar.gz)."
     ]
    },
    {
     "cell_type": "code",
     "collapsed": false,
     "input": [
      "\"\"\"\n",
      "DON'T MODIFY ANYTHING IN THIS CELL THAT IS BELOW THIS LINE\n",
      "\"\"\"\n",
      "from urllib.request import urlretrieve\n",
      "#from urllib import urlretrieve\n",
      "from os.path import isfile, isdir\n",
      "from tqdm import tqdm\n",
      "import problem_unittests as tests\n",
      "import tarfile\n",
      "\n",
      "cifar10_dataset_folder_path = 'cifar-10-batches-py'\n",
      "\n",
      "class DLProgress(tqdm):\n",
      "    last_block = 0\n",
      "\n",
      "    def hook(self, block_num=1, block_size=1, total_size=None):\n",
      "        self.total = total_size\n",
      "        self.update((block_num - self.last_block) * block_size)\n",
      "        self.last_block = block_num\n",
      "\n",
      "if not isfile('cifar-10-python.tar.gz'):\n",
      "    with DLProgress(unit='B', unit_scale=True, miniters=1, desc='CIFAR-10 Dataset') as pbar:\n",
      "        urlretrieve(\n",
      "            'https://www.cs.toronto.edu/~kriz/cifar-10-python.tar.gz',\n",
      "            'cifar-10-python.tar.gz',\n",
      "            pbar.hook)\n",
      "\n",
      "if not isdir(cifar10_dataset_folder_path):\n",
      "    with tarfile.open('cifar-10-python.tar.gz') as tar:\n",
      "        tar.extractall()\n",
      "        tar.close()\n",
      "\n",
      "\n",
      "tests.test_folder_path(cifar10_dataset_folder_path)"
     ],
     "language": "python",
     "metadata": {},
     "outputs": [
      {
       "output_type": "stream",
       "stream": "stdout",
       "text": [
        "All files found!\n"
       ]
      }
     ],
     "prompt_number": 5
    },
    {
     "cell_type": "markdown",
     "metadata": {},
     "source": [
      "## Explore the Data\n",
      "The dataset is broken into batches to prevent your machine from running out of memory.  The CIFAR-10 dataset consists of 5 batches, named `data_batch_1`, `data_batch_2`, etc.. Each batch contains the labels and images that are one of the following:\n",
      "* airplane\n",
      "* automobile\n",
      "* bird\n",
      "* cat\n",
      "* deer\n",
      "* dog\n",
      "* frog\n",
      "* horse\n",
      "* ship\n",
      "* truck\n",
      "\n",
      "Understanding a dataset is part of making predictions on the data.  Play around with the code cell below by changing the `batch_id` and `sample_id`. The `batch_id` is the id for a batch (1-5). The `sample_id` is the id for a image and label pair in the batch.\n",
      "\n",
      "Ask yourself \"What are all possible labels?\", \"What is the range of values for the image data?\", \"Are the labels in order or random?\".  Answers to questions like these will help you preprocess the data and end up with better predictions."
     ]
    },
    {
     "cell_type": "code",
     "collapsed": false,
     "input": [
      "%matplotlib inline\n",
      "%config InlineBackend.figure_format = 'retina'\n",
      "\n",
      "import helper\n",
      "import numpy as np\n",
      "\n",
      "# Explore the dataset\n",
      "batch_id = 1\n",
      "sample_id = 5\n",
      "helper.display_stats(cifar10_dataset_folder_path, batch_id, sample_id)"
     ],
     "language": "python",
     "metadata": {},
     "outputs": [
      {
       "output_type": "stream",
       "stream": "stdout",
       "text": [
        "\n",
        "Stats of batch 1:\n",
        "Samples: 10000\n",
        "Label Counts: {0: 1005, 1: 974, 2: 1032, 3: 1016, 4: 999, 5: 937, 6: 1030, 7: 1001, 8: 1025, 9: 981}\n",
        "First 20 Labels: [6, 9, 9, 4, 1, 1, 2, 7, 8, 3, 4, 7, 7, 2, 9, 9, 9, 3, 2, 6]\n",
        "\n",
        "Example of Image 5:\n",
        "Image - Min Value: 0 Max Value: 252\n",
        "Image - Shape: (32, 32, 3)\n",
        "Label - Label Id: 1 Name: automobile\n"
       ]
      },
      {
       "metadata": {
        "png": {
         "height": 250,
         "width": 253
        }
       },
       "output_type": "display_data",
       "png": "[encoded data removed]",
       "text": [
        "<matplotlib.figure.Figure at 0x7f670221ef28>"
       ]
      }
     ],
     "prompt_number": 7
    },
    {
     "cell_type": "markdown",
     "metadata": {},
     "source": [
      "## Implement Preprocess Functions\n",
      "### Normalize\n",
      "In the cell below, implement the `normalize` function to take in image data, `x`, and return it as a normalized Numpy array. The values should be in the range of 0 to 1, inclusive.  The return object should be the same shape as `x`."
     ]
    },
    {
     "cell_type": "code",
     "collapsed": false,
     "input": [
      "def normalize(x):\n",
      "    \"\"\"\n",
      "    Normalize a list of sample image data in the range of 0 to 1\n",
      "    : x: List of image data.  The image shape is (32, 32, 3)\n",
      "    : return: Numpy array of normalize data\n",
      "    \"\"\"\n",
      "    # TODO: Implement Function\n",
      "    x_min = np.min(x)\n",
      "    x_max = np.max(x)\n",
      "    x_norm = list()\n",
      "    \n",
      "    for i in x:\n",
      "        x_norm.append((i-x_min)/(x_max-x_min))\n",
      "    \n",
      "    return np.array(x_norm)\n",
      "\n",
      "\n",
      "\"\"\"\n",
      "DON'T MODIFY ANYTHING IN THIS CELL THAT IS BELOW THIS LINE\n",
      "\"\"\"\n",
      "tests.test_normalize(normalize)"
     ],
     "language": "python",
     "metadata": {},
     "outputs": [
      {
       "output_type": "stream",
       "stream": "stdout",
       "text": [
        "Tests Passed\n"
       ]
      }
     ],
     "prompt_number": 9
    },
    {
     "cell_type": "markdown",
     "metadata": {},
     "source": [
      "### One-hot encode\n",
      "Just like the previous code cell, you'll be implementing a function for preprocessing.  This time, you'll implement the `one_hot_encode` function. The input, `x`, are a list of labels.  Implement the function to return the list of labels as One-Hot encoded Numpy array.  The possible values for labels are 0 to 9. The one-hot encoding function should return the same encoding for each value between each call to `one_hot_encode`.  Make sure to save the map of encodings outside the function.\n",
      "\n",
      "**Hint:**\n",
      "\n",
      "Look into LabelBinarizer in the preprocessing module of sklearn."
     ]
    },
    {
     "cell_type": "code",
     "collapsed": false,
     "input": [
      "def encode(x):\n",
      "    y = np.zeros(10)\n",
      "    np.put(y, x, 1)\n",
      "    return y\n",
      "\n",
      "def one_hot_encode(x):\n",
      "    \"\"\"\n",
      "    One hot encode a list of sample labels. Return a one-hot encoded vector for each label.\n",
      "    : x: List of sample Labels\n",
      "    : return: Numpy array of one-hot encoded labels\n",
      "    \"\"\"\n",
      "    # TODO: Implement Function\n",
      "    one_hot = list()\n",
      "    \n",
      "    for i in x:\n",
      "        one_hot.append(encode(i))\n",
      "        \n",
      "    return np.array(one_hot)\n",
      "\n",
      "\n",
      "\"\"\"\n",
      "DON'T MODIFY ANYTHING IN THIS CELL THAT IS BELOW THIS LINE\n",
      "\"\"\"\n",
      "tests.test_one_hot_encode(one_hot_encode)"
     ],
     "language": "python",
     "metadata": {},
     "outputs": [
      {
       "output_type": "stream",
       "stream": "stdout",
       "text": [
        "Tests Passed\n"
       ]
      }
     ],
     "prompt_number": 12
    },
    {
     "cell_type": "markdown",
     "metadata": {},
     "source": [
      "### Randomize Data\n",
      "As you saw from exploring the data above, the order of the samples are randomized.  It doesn't hurt to randomize it again, but you don't need to for this dataset."
     ]
    },
    {
     "cell_type": "markdown",
     "metadata": {},
     "source": [
      "## Preprocess all the data and save it\n",
      "Running the code cell below will preprocess all the CIFAR-10 data and save it to file. The code below also uses 10% of the training data for validation."
     ]
    },
    {
     "cell_type": "code",
     "collapsed": false,
     "input": [
      "\"\"\"\n",
      "DON'T MODIFY ANYTHING IN THIS CELL\n",
      "\"\"\"\n",
      "# Preprocess Training, Validation, and Testing Data\n",
      "helper.preprocess_and_save_data(cifar10_dataset_folder_path, normalize, one_hot_encode)"
     ],
     "language": "python",
     "metadata": {},
     "outputs": [],
     "prompt_number": 13
    },
    {
     "cell_type": "markdown",
     "metadata": {},
     "source": [
      "# Check Point\n",
      "This is your first checkpoint.  If you ever decide to come back to this notebook or have to restart the notebook, you can start from here.  The preprocessed data has been saved to disk."
     ]
    },
    {
     "cell_type": "code",
     "collapsed": true,
     "input": [
      "\"\"\"\n",
      "DON'T MODIFY ANYTHING IN THIS CELL\n",
      "\"\"\"\n",
      "import pickle\n",
      "import problem_unittests as tests\n",
      "import helper\n",
      "\n",
      "# Load the Preprocessed Validation data\n",
      "valid_features, valid_labels = pickle.load(open('preprocess_validation.p', mode='rb'))"
     ],
     "language": "python",
     "metadata": {},
     "outputs": [],
     "prompt_number": 15
    },
    {
     "cell_type": "markdown",
     "metadata": {},
     "source": [
      "## Build the network\n",
      "For the neural network, you'll build each layer into a function.  Most of the code you've seen has been outside of functions. To test your code more thoroughly, we require that you put each layer in a function.  This allows us to give you better feedback and test for simple mistakes using our unittests before you submit your project.\n",
      "\n",
      ">**Note:** If you're finding it hard to dedicate enough time for this course each week, we've provided a small shortcut to this part of the project. In the next couple of problems, you'll have the option to use classes from the [TensorFlow Layers](https://www.tensorflow.org/api_docs/python/tf/layers) or [TensorFlow Layers (contrib)](https://www.tensorflow.org/api_guides/python/contrib.layers) packages to build each layer, except the layers you build in the \"Convolutional and Max Pooling Layer\" section.  TF Layers is similar to Keras's and TFLearn's abstraction to layers, so it's easy to pickup.\n",
      "\n",
      ">However, if you would like to get the most out of this course, try to solve all the problems _without_ using anything from the TF Layers packages. You **can** still use classes from other packages that happen to have the same name as ones you find in TF Layers! For example, instead of using the TF Layers version of the `conv2d` class, [tf.layers.conv2d](https://www.tensorflow.org/api_docs/python/tf/layers/conv2d), you would want to use the TF Neural Network version of `conv2d`, [tf.nn.conv2d](https://www.tensorflow.org/api_docs/python/tf/nn/conv2d). \n",
      "\n",
      "Let's begin!\n",
      "\n",
      "### Input\n",
      "The neural network needs to read the image data, one-hot encoded labels, and dropout keep probability. Implement the following functions\n",
      "* Implement `neural_net_image_input`\n",
      " * Return a [TF Placeholder](https://www.tensorflow.org/api_docs/python/tf/placeholder)\n",
      " * Set the shape using `image_shape` with batch size set to `None`.\n",
      " * Name the TensorFlow placeholder \"x\" using the TensorFlow `name` parameter in the [TF Placeholder](https://www.tensorflow.org/api_docs/python/tf/placeholder).\n",
      "* Implement `neural_net_label_input`\n",
      " * Return a [TF Placeholder](https://www.tensorflow.org/api_docs/python/tf/placeholder)\n",
      " * Set the shape using `n_classes` with batch size set to `None`.\n",
      " * Name the TensorFlow placeholder \"y\" using the TensorFlow `name` parameter in the [TF Placeholder](https://www.tensorflow.org/api_docs/python/tf/placeholder).\n",
      "* Implement `neural_net_keep_prob_input`\n",
      " * Return a [TF Placeholder](https://www.tensorflow.org/api_docs/python/tf/placeholder) for dropout keep probability.\n",
      " * Name the TensorFlow placeholder \"keep_prob\" using the TensorFlow `name` parameter in the [TF Placeholder](https://www.tensorflow.org/api_docs/python/tf/placeholder).\n",
      "\n",
      "These names will be used at the end of the project to load your saved model.\n",
      "\n",
      "Note: `None` for shapes in TensorFlow allow for a dynamic size."
     ]
    },
    {
     "cell_type": "code",
     "collapsed": false,
     "input": [
      "import tensorflow as tf\n",
      "\n",
      "def neural_net_image_input(image_shape):\n",
      "    \"\"\"\n",
      "    Return a Tensor for a batch of image input\n",
      "    : image_shape: Shape of the images\n",
      "    : return: Tensor for image input.\n",
      "    \"\"\"\n",
      "    # TODO: Implement Function\n",
      "    return tf.placeholder(tf.float32, [None, image_shape[0],image_shape[1],image_shape[2]], name='x')\n",
      "\n",
      "\n",
      "def neural_net_label_input(n_classes):\n",
      "    \"\"\"\n",
      "    Return a Tensor for a batch of label input\n",
      "    : n_classes: Number of classes\n",
      "    : return: Tensor for label input.\n",
      "    \"\"\"\n",
      "    # TODO: Implement Function\n",
      "    return tf.placeholder(tf.float32, [None, n_classes], name='y')\n",
      "\n",
      "\n",
      "def neural_net_keep_prob_input():\n",
      "    \"\"\"\n",
      "    Return a Tensor for keep probability\n",
      "    : return: Tensor for keep probability.\n",
      "    \"\"\"\n",
      "    # TODO: Implement Function\n",
      "    return tf.placeholder(tf.float32, name='keep_prob')\n",
      "\n",
      "\n",
      "\"\"\"\n",
      "DON'T MODIFY ANYTHING IN THIS CELL THAT IS BELOW THIS LINE\n",
      "\"\"\"\n",
      "tf.reset_default_graph()\n",
      "tests.test_nn_image_inputs(neural_net_image_input)\n",
      "tests.test_nn_label_inputs(neural_net_label_input)\n",
      "tests.test_nn_keep_prob_inputs(neural_net_keep_prob_input)"
     ],
     "language": "python",
     "metadata": {},
     "outputs": [
      {
       "output_type": "stream",
       "stream": "stdout",
       "text": [
        "Image Input Tests Passed.\n",
        "Label Input Tests Passed.\n",
        "Keep Prob Tests Passed.\n"
       ]
      }
     ],
     "prompt_number": 16
    },
    {
     "cell_type": "markdown",
     "metadata": {},
     "source": [
      "### Convolution and Max Pooling Layer\n",
      "Convolution layers have a lot of success with images. For this code cell, you should implement the function `conv2d_maxpool` to apply convolution then max pooling:\n",
      "* Create the weight and bias using `conv_ksize`, `conv_num_outputs` and the shape of `x_tensor`.\n",
      "* Apply a convolution to `x_tensor` using weight and `conv_strides`.\n",
      " * We recommend you use same padding, but you're welcome to use any padding.\n",
      "* Add bias\n",
      "* Add a nonlinear activation to the convolution.\n",
      "* Apply Max Pooling using `pool_ksize` and `pool_strides`.\n",
      " * We recommend you use same padding, but you're welcome to use any padding.\n",
      "\n",
      "**Note:** You **can't** use [TensorFlow Layers](https://www.tensorflow.org/api_docs/python/tf/layers) or [TensorFlow Layers (contrib)](https://www.tensorflow.org/api_guides/python/contrib.layers) for **this** layer, but you can still use TensorFlow's [Neural Network](https://www.tensorflow.org/api_docs/python/tf/nn) package. You may still use the shortcut option for all the **other** layers.\n",
      "\n",
      "** Hint: **\n",
      "\n",
      "When unpacking values as an argument in Python, look into the [unpacking](https://docs.python.org/3/tutorial/controlflow.html#unpacking-argument-lists) operator. "
     ]
    },
    {
     "cell_type": "code",
     "collapsed": false,
     "input": [
      "def conv2d_maxpool(x_tensor, conv_num_outputs, conv_ksize, conv_strides, pool_ksize, pool_strides):\n",
      "    \"\"\"\n",
      "    Apply convolution then max pooling to x_tensor\n",
      "    :param x_tensor: TensorFlow Tensor\n",
      "    :param conv_num_outputs: Number of outputs for the convolutional layer\n",
      "    :param conv_ksize: kernal size 2-D Tuple for the convolutional layer\n",
      "    :param conv_strides: Stride 2-D Tuple for convolution\n",
      "    :param pool_ksize: kernal size 2-D Tuple for pool\n",
      "    :param pool_strides: Stride 2-D Tuple for pool\n",
      "    : return: A tensor that represents convolution and max pooling of x_tensor\n",
      "    \"\"\"\n",
      "    # TODO: Implement Function\n",
      "    weight = tf.Variable(tf.random_normal([conv_ksize[0],\n",
      "                                           conv_ksize[1],\n",
      "                                           x_tensor.get_shape().as_list()[-1], \n",
      "                                           conv_num_outputs],\n",
      "                                         stddev=0.1))\n",
      "    bias = tf.Variable(tf.zeros(conv_num_outputs, dtype=tf.float32))\n",
      "    conv_layer = tf.nn.conv2d(x_tensor, weight, strides=[1, conv_strides[0], conv_strides[1], 1], padding='SAME')\n",
      "    conv_layer = tf.nn.bias_add(conv_layer, bias)\n",
      "    conv_layer = tf.nn.relu(conv_layer)\n",
      "    conv_layer = tf.nn.max_pool(conv_layer, \n",
      "                                ksize=[1, pool_ksize[0], pool_ksize[1], 1], \n",
      "                                strides=[1, pool_strides[0], pool_strides[1], 1],\n",
      "                                padding='SAME')\n",
      "    return conv_layer \n",
      "\n",
      "\n",
      "\"\"\"\n",
      "DON'T MODIFY ANYTHING IN THIS CELL THAT IS BELOW THIS LINE\n",
      "\"\"\"\n",
      "tests.test_con_pool(conv2d_maxpool)"
     ],
     "language": "python",
     "metadata": {},
     "outputs": [
      {
       "output_type": "stream",
       "stream": "stdout",
       "text": [
        "Tests Passed\n"
       ]
      }
     ],
     "prompt_number": 17
    },
    {
     "cell_type": "markdown",
     "metadata": {},
     "source": [
      "### Flatten Layer\n",
      "Implement the `flatten` function to change the dimension of `x_tensor` from a 4-D tensor to a 2-D tensor.  The output should be the shape (*Batch Size*, *Flattened Image Size*). Shortcut option: you can use classes from the [TensorFlow Layers](https://www.tensorflow.org/api_docs/python/tf/layers) or [TensorFlow Layers (contrib)](https://www.tensorflow.org/api_guides/python/contrib.layers) packages for this layer. For more of a challenge, only use other TensorFlow packages."
     ]
    },
    {
     "cell_type": "code",
     "collapsed": false,
     "input": [
      "def flatten(x_tensor):\n",
      "    \"\"\"\n",
      "    Flatten x_tensor to (Batch Size, Flattened Image Size)\n",
      "    : x_tensor: A tensor of size (Batch Size, ...), where ... are the image dimensions.\n",
      "    : return: A tensor of size (Batch Size, Flattened Image Size).\n",
      "    \"\"\"\n",
      "    # TODO: Implement Function\n",
      "    flattened_size = x_tensor.shape[1] * x_tensor.shape[2] * x_tensor.shape[3]\n",
      "    return tf.reshape(x_tensor, [-1, flattened_size.value])\n",
      "\n",
      "\n",
      "\"\"\"\n",
      "DON'T MODIFY ANYTHING IN THIS CELL THAT IS BELOW THIS LINE\n",
      "\"\"\"\n",
      "tests.test_flatten(flatten)"
     ],
     "language": "python",
     "metadata": {},
     "outputs": [
      {
       "output_type": "stream",
       "stream": "stdout",
       "text": [
        "Tests Passed\n"
       ]
      }
     ],
     "prompt_number": 19
    },
    {
     "cell_type": "markdown",
     "metadata": {},
     "source": [
      "### Fully-Connected Layer\n",
      "Implement the `fully_conn` function to apply a fully connected layer to `x_tensor` with the shape (*Batch Size*, *num_outputs*). Shortcut option: you can use classes from the [TensorFlow Layers](https://www.tensorflow.org/api_docs/python/tf/layers) or [TensorFlow Layers (contrib)](https://www.tensorflow.org/api_guides/python/contrib.layers) packages for this layer. For more of a challenge, only use other TensorFlow packages."
     ]
    },
    {
     "cell_type": "code",
     "collapsed": false,
     "input": [
      "def fully_conn(x_tensor, num_outputs):\n",
      "    \"\"\"\n",
      "    Apply a fully connected layer to x_tensor using weight and bias\n",
      "    : x_tensor: A 2-D tensor where the first dimension is batch size.\n",
      "    : num_outputs: The number of output that the new tensor should be.\n",
      "    : return: A 2-D tensor where the second dimension is num_outputs.\n",
      "    \"\"\"\n",
      "    # TODO: Implement Function\n",
      "    num_features = x_tensor.shape[1].value\n",
      "    weights = tf.Variable(tf.random_normal([num_features, num_outputs], stddev=0.1))\n",
      "    biases = tf.Variable(tf.zeros([num_outputs]))\n",
      "    fc = tf.add(tf.matmul(x_tensor, weights), biases)\n",
      "    fc = tf.nn.relu(fc)\n",
      "    return fc\n",
      "\n",
      "\n",
      "\"\"\"\n",
      "DON'T MODIFY ANYTHING IN THIS CELL THAT IS BELOW THIS LINE\n",
      "\"\"\"\n",
      "tests.test_fully_conn(fully_conn)"
     ],
     "language": "python",
     "metadata": {},
     "outputs": [
      {
       "output_type": "stream",
       "stream": "stdout",
       "text": [
        "Tests Passed\n"
       ]
      }
     ],
     "prompt_number": 20
    },
    {
     "cell_type": "markdown",
     "metadata": {},
     "source": [
      "### Output Layer\n",
      "Implement the `output` function to apply a fully connected layer to `x_tensor` with the shape (*Batch Size*, *num_outputs*). Shortcut option: you can use classes from the [TensorFlow Layers](https://www.tensorflow.org/api_docs/python/tf/layers) or [TensorFlow Layers (contrib)](https://www.tensorflow.org/api_guides/python/contrib.layers) packages for this layer. For more of a challenge, only use other TensorFlow packages.\n",
      "\n",
      "**Note:** Activation, softmax, or cross entropy should **not** be applied to this."
     ]
    },
    {
     "cell_type": "code",
     "collapsed": false,
     "input": [
      "def output(x_tensor, num_outputs):\n",
      "    \"\"\"\n",
      "    Apply a output layer to x_tensor using weight and bias\n",
      "    : x_tensor: A 2-D tensor where the first dimension is batch size.\n",
      "    : num_outputs: The number of output that the new tensor should be.\n",
      "    : return: A 2-D tensor where the second dimension is num_outputs.\n",
      "    \"\"\"\n",
      "    # TODO: Implement Function\n",
      "    num_features = x_tensor.shape[1].value\n",
      "    weights = tf.Variable(tf.random_normal([num_features, num_outputs], stddev=0.1))\n",
      "    biases = tf.Variable(tf.zeros([num_outputs]))\n",
      "    output_layer = tf.add(tf.matmul(x_tensor, weights), biases)\n",
      "    # output_layer = tf.nn.softmax(output_layer)\n",
      "    return output_layer\n",
      "\n",
      "\n",
      "\"\"\"\n",
      "DON'T MODIFY ANYTHING IN THIS CELL THAT IS BELOW THIS LINE\n",
      "\"\"\"\n",
      "tests.test_output(output)"
     ],
     "language": "python",
     "metadata": {},
     "outputs": [
      {
       "output_type": "stream",
       "stream": "stdout",
       "text": [
        "Tests Passed\n"
       ]
      }
     ],
     "prompt_number": 21
    },
    {
     "cell_type": "markdown",
     "metadata": {},
     "source": [
      "### Create Convolutional Model\n",
      "Implement the function `conv_net` to create a convolutional neural network model. The function takes in a batch of images, `x`, and outputs logits.  Use the layers you created above to create this model:\n",
      "\n",
      "* Apply 1, 2, or 3 Convolution and Max Pool layers\n",
      "* Apply a Flatten Layer\n",
      "* Apply 1, 2, or 3 Fully Connected Layers\n",
      "* Apply an Output Layer\n",
      "* Return the output\n",
      "* Apply [TensorFlow's Dropout](https://www.tensorflow.org/api_docs/python/tf/nn/dropout) to one or more layers in the model using `keep_prob`. "
     ]
    },
    {
     "cell_type": "code",
     "collapsed": false,
     "input": [
      "def conv_net(x, keep_prob):\n",
      "    \"\"\"\n",
      "    Create a convolutional neural network model\n",
      "    : x: Placeholder tensor that holds image data.\n",
      "    : keep_prob: Placeholder tensor that hold dropout keep probability.\n",
      "    : return: Tensor that represents logits\n",
      "    \"\"\"\n",
      "    # TODO: Apply 1, 2, or 3 Convolution and Max Pool layers\n",
      "    #    Play around with different number of outputs, kernel size and stride\n",
      "    # Function Definition from Above:\n",
      "    #    conv2d_maxpool(x_tensor, conv_num_outputs, conv_ksize, conv_strides, pool_ksize, pool_strides)\n",
      "    x = conv2d_maxpool(x, 8, (4, 4), (1, 1), (2, 2), (2, 2))\n",
      "    x = conv2d_maxpool(x, 16, (4, 4), (1, 1), (2, 2), (2, 2))\n",
      "    x = conv2d_maxpool(x, 32, (4, 4), (1, 1), (2, 2), (2, 2))\n",
      "    \n",
      "    # TODO: Apply a Flatten Layer\n",
      "    # Function Definition from Above:\n",
      "    #   flatten(x_tensor)\n",
      "    x = flatten(x)\n",
      "\n",
      "    # TODO: Apply 1, 2, or 3 Fully Connected Layers\n",
      "    #    Play around with different number of outputs\n",
      "    # Function Definition from Above:\n",
      "    #   fully_conn(x_tensor, num_outputs)\n",
      "    x = fully_conn(x, 1024)\n",
      "    x = tf.nn.dropout(x, keep_prob=keep_prob)\n",
      "    x = fully_conn(x, 1024)\n",
      "    x = tf.nn.dropout(x, keep_prob=keep_prob)\n",
      "        \n",
      "    # TODO: Apply an Output Layer\n",
      "    #    Set this to the number of classes\n",
      "    # Function Definition from Above:\n",
      "    #   output(x_tensor, num_outputs)\n",
      "    x = output(x, 10)\n",
      "    \n",
      "    \n",
      "    # TODO: return output\n",
      "    return x\n",
      "\n",
      "\n",
      "\"\"\"\n",
      "DON'T MODIFY ANYTHING IN THIS CELL THAT IS BELOW THIS LINE\n",
      "\"\"\"\n",
      "\n",
      "##############################\n",
      "## Build the Neural Network ##\n",
      "##############################\n",
      "\n",
      "# Remove previous weights, bias, inputs, etc..\n",
      "tf.reset_default_graph()\n",
      "\n",
      "# Inputs\n",
      "x = neural_net_image_input((32, 32, 3))\n",
      "y = neural_net_label_input(10)\n",
      "keep_prob = neural_net_keep_prob_input()\n",
      "\n",
      "# Model\n",
      "logits = conv_net(x, keep_prob)\n",
      "\n",
      "# Name logits Tensor, so that is can be loaded from disk after training\n",
      "logits = tf.identity(logits, name='logits')\n",
      "\n",
      "# Loss and Optimizer\n",
      "cost = tf.reduce_mean(tf.nn.softmax_cross_entropy_with_logits(logits=logits, labels=y))\n",
      "optimizer = tf.train.AdamOptimizer().minimize(cost)\n",
      "\n",
      "# Accuracy\n",
      "correct_pred = tf.equal(tf.argmax(logits, 1), tf.argmax(y, 1))\n",
      "accuracy = tf.reduce_mean(tf.cast(correct_pred, tf.float32), name='accuracy')\n",
      "\n",
      "tests.test_conv_net(conv_net)"
     ],
     "language": "python",
     "metadata": {},
     "outputs": [
      {
       "output_type": "stream",
       "stream": "stdout",
       "text": [
        "Neural Network Built!\n"
       ]
      }
     ],
     "prompt_number": 22
    },
    {
     "cell_type": "markdown",
     "metadata": {},
     "source": [
      "## Train the Neural Network\n",
      "### Single Optimization\n",
      "Implement the function `train_neural_network` to do a single optimization.  The optimization should use `optimizer` to optimize in `session` with a `feed_dict` of the following:\n",
      "* `x` for image input\n",
      "* `y` for labels\n",
      "* `keep_prob` for keep probability for dropout\n",
      "\n",
      "This function will be called for each batch, so `tf.global_variables_initializer()` has already been called.\n",
      "\n",
      "Note: Nothing needs to be returned. This function is only optimizing the neural network."
     ]
    },
    {
     "cell_type": "code",
     "collapsed": false,
     "input": [
      "def train_neural_network(session, optimizer, keep_probability, feature_batch, label_batch):\n",
      "    \"\"\"\n",
      "    Optimize the session on a batch of images and labels\n",
      "    : session: Current TensorFlow session\n",
      "    : optimizer: TensorFlow optimizer function\n",
      "    : keep_probability: keep probability\n",
      "    : feature_batch: Batch of Numpy image data\n",
      "    : label_batch: Batch of Numpy label data\n",
      "    \"\"\"\n",
      "    # TODO: Implement Function\n",
      "    session.run(optimizer, feed_dict={x:feature_batch, y:label_batch, keep_prob:keep_probability})\n",
      "\n",
      "\n",
      "\"\"\"\n",
      "DON'T MODIFY ANYTHING IN THIS CELL THAT IS BELOW THIS LINE\n",
      "\"\"\"\n",
      "tests.test_train_nn(train_neural_network)"
     ],
     "language": "python",
     "metadata": {},
     "outputs": [
      {
       "output_type": "stream",
       "stream": "stdout",
       "text": [
        "Tests Passed\n"
       ]
      }
     ],
     "prompt_number": 23
    },
    {
     "cell_type": "markdown",
     "metadata": {},
     "source": [
      "### Show Stats\n",
      "Implement the function `print_stats` to print loss and validation accuracy.  Use the global variables `valid_features` and `valid_labels` to calculate validation accuracy.  Use a keep probability of `1.0` to calculate the loss and validation accuracy."
     ]
    },
    {
     "cell_type": "code",
     "collapsed": false,
     "input": [
      "def print_stats(session, feature_batch, label_batch, cost, accuracy):\n",
      "    \"\"\"\n",
      "    Print information about loss and validation accuracy\n",
      "    : session: Current TensorFlow session\n",
      "    : feature_batch: Batch of Numpy image data\n",
      "    : label_batch: Batch of Numpy label data\n",
      "    : cost: TensorFlow cost function\n",
      "    : accuracy: TensorFlow accuracy function\n",
      "    \"\"\"\n",
      "    loss = session.run(cost, feed_dict={x:feature_batch, \n",
      "                                        y:label_batch,\n",
      "                                        keep_prob:1.0}) \n",
      "    acc = session.run(accuracy, \n",
      "                feed_dict={x:valid_features, \n",
      "                           y:valid_labels, \n",
      "                           keep_prob:1.0})\n",
      "    print('Loss={0} ValidationAccuracy={1}'.format(loss, acc))"
     ],
     "language": "python",
     "metadata": {},
     "outputs": [],
     "prompt_number": 24
    },
    {
     "cell_type": "markdown",
     "metadata": {},
     "source": [
      "### Hyperparameters\n",
      "Tune the following parameters:\n",
      "* Set `epochs` to the number of iterations until the network stops learning or start overfitting\n",
      "* Set `batch_size` to the highest number that your machine has memory for.  Most people set them to common sizes of memory:\n",
      " * 64\n",
      " * 128\n",
      " * 256\n",
      " * ...\n",
      "* Set `keep_probability` to the probability of keeping a node using dropout"
     ]
    },
    {
     "cell_type": "code",
     "collapsed": true,
     "input": [
      "# TODO: Tune Parameters\n",
      "epochs = 25\n",
      "batch_size = 1028\n",
      "keep_probability = 0.9"
     ],
     "language": "python",
     "metadata": {},
     "outputs": [],
     "prompt_number": 25
    },
    {
     "cell_type": "markdown",
     "metadata": {},
     "source": [
      "### Train on a Single CIFAR-10 Batch\n",
      "Instead of training the neural network on all the CIFAR-10 batches of data, let's use a single batch. This should save time while you iterate on the model to get a better accuracy.  Once the final validation accuracy is 50% or greater, run the model on all the data in the next section."
     ]
    },
    {
     "cell_type": "code",
     "collapsed": false,
     "input": [
      "\"\"\"\n",
      "DON'T MODIFY ANYTHING IN THIS CELL\n",
      "\"\"\"\n",
      "print('Checking the Training on a Single Batch...')\n",
      "with tf.Session() as sess:\n",
      "    # Initializing the variables\n",
      "    sess.run(tf.global_variables_initializer())\n",
      "    \n",
      "    # Training cycle\n",
      "    for epoch in range(epochs):\n",
      "        batch_i = 1\n",
      "        for batch_features, batch_labels in helper.load_preprocess_training_batch(batch_i, batch_size):\n",
      "            train_neural_network(sess, optimizer, keep_probability, batch_features, batch_labels)\n",
      "        print('Epoch {:>2}, CIFAR-10 Batch {}:  '.format(epoch + 1, batch_i), end='')\n",
      "        print_stats(sess, batch_features, batch_labels, cost, accuracy)"
     ],
     "language": "python",
     "metadata": {},
     "outputs": [
      {
       "output_type": "stream",
       "stream": "stdout",
       "text": [
        "Checking the Training on a Single Batch...\n",
        "Epoch  1, CIFAR-10 Batch 1:  "
       ]
      },
      {
       "output_type": "stream",
       "stream": "stdout",
       "text": [
        "Loss=2.342555284500122 ValidationAccuracy=0.15080000460147858"
       ]
      },
      {
       "output_type": "stream",
       "stream": "stdout",
       "text": [
        "\n",
        "Epoch  2, CIFAR-10 Batch 1:  "
       ]
      },
      {
       "output_type": "stream",
       "stream": "stdout",
       "text": [
        "Loss=2.128622055053711 ValidationAccuracy=0.20440000295639038"
       ]
      },
      {
       "output_type": "stream",
       "stream": "stdout",
       "text": [
        "\n",
        "Epoch  3, CIFAR-10 Batch 1:  "
       ]
      },
      {
       "output_type": "stream",
       "stream": "stdout",
       "text": [
        "Loss=1.9587059020996094 ValidationAccuracy=0.29499998688697815"
       ]
      },
      {
       "output_type": "stream",
       "stream": "stdout",
       "text": [
        "\n",
        "Epoch  4, CIFAR-10 Batch 1:  "
       ]
      },
      {
       "output_type": "stream",
       "stream": "stdout",
       "text": [
        "Loss=1.778301477432251 ValidationAccuracy=0.3601999878883362"
       ]
      },
      {
       "output_type": "stream",
       "stream": "stdout",
       "text": [
        "\n",
        "Epoch  5, CIFAR-10 Batch 1:  "
       ]
      },
      {
       "output_type": "stream",
       "stream": "stdout",
       "text": [
        "Loss=1.6451939344406128 ValidationAccuracy=0.3846000134944916"
       ]
      },
      {
       "output_type": "stream",
       "stream": "stdout",
       "text": [
        "\n",
        "Epoch  6, CIFAR-10 Batch 1:  "
       ]
      },
      {
       "output_type": "stream",
       "stream": "stdout",
       "text": [
        "Loss=1.5404595136642456 ValidationAccuracy=0.4131999909877777"
       ]
      },
      {
       "output_type": "stream",
       "stream": "stdout",
       "text": [
        "\n",
        "Epoch  7, CIFAR-10 Batch 1:  "
       ]
      },
      {
       "output_type": "stream",
       "stream": "stdout",
       "text": [
        "Loss=1.4577711820602417 ValidationAccuracy=0.43320000171661377"
       ]
      },
      {
       "output_type": "stream",
       "stream": "stdout",
       "text": [
        "\n",
        "Epoch  8, CIFAR-10 Batch 1:  "
       ]
      },
      {
       "output_type": "stream",
       "stream": "stdout",
       "text": [
        "Loss=1.355860710144043 ValidationAccuracy=0.4569999873638153"
       ]
      },
      {
       "output_type": "stream",
       "stream": "stdout",
       "text": [
        "\n",
        "Epoch  9, CIFAR-10 Batch 1:  "
       ]
      },
      {
       "output_type": "stream",
       "stream": "stdout",
       "text": [
        "Loss=1.2829679250717163 ValidationAccuracy=0.4625999927520752"
       ]
      },
      {
       "output_type": "stream",
       "stream": "stdout",
       "text": [
        "\n",
        "Epoch 10, CIFAR-10 Batch 1:  "
       ]
      },
      {
       "output_type": "stream",
       "stream": "stdout",
       "text": [
        "Loss=1.210289716720581 ValidationAccuracy=0.47600001096725464"
       ]
      },
      {
       "output_type": "stream",
       "stream": "stdout",
       "text": [
        "\n",
        "Epoch 11, CIFAR-10 Batch 1:  "
       ]
      },
      {
       "output_type": "stream",
       "stream": "stdout",
       "text": [
        "Loss=1.1359976530075073 ValidationAccuracy=0.48820000886917114"
       ]
      },
      {
       "output_type": "stream",
       "stream": "stdout",
       "text": [
        "\n",
        "Epoch 12, CIFAR-10 Batch 1:  "
       ]
      },
      {
       "output_type": "stream",
       "stream": "stdout",
       "text": [
        "Loss=1.0669121742248535 ValidationAccuracy=0.4984000027179718"
       ]
      },
      {
       "output_type": "stream",
       "stream": "stdout",
       "text": [
        "\n",
        "Epoch 13, CIFAR-10 Batch 1:  "
       ]
      },
      {
       "output_type": "stream",
       "stream": "stdout",
       "text": [
        "Loss=1.0099984407424927 ValidationAccuracy=0.49880000948905945"
       ]
      },
      {
       "output_type": "stream",
       "stream": "stdout",
       "text": [
        "\n",
        "Epoch 14, CIFAR-10 Batch 1:  "
       ]
      },
      {
       "output_type": "stream",
       "stream": "stdout",
       "text": [
        "Loss=0.9365618228912354 ValidationAccuracy=0.5080000162124634"
       ]
      },
      {
       "output_type": "stream",
       "stream": "stdout",
       "text": [
        "\n",
        "Epoch 15, CIFAR-10 Batch 1:  "
       ]
      },
      {
       "output_type": "stream",
       "stream": "stdout",
       "text": [
        "Loss=0.8737034797668457 ValidationAccuracy=0.5094000101089478"
       ]
      },
      {
       "output_type": "stream",
       "stream": "stdout",
       "text": [
        "\n",
        "Epoch 16, CIFAR-10 Batch 1:  "
       ]
      },
      {
       "output_type": "stream",
       "stream": "stdout",
       "text": [
        "Loss=0.8518500328063965 ValidationAccuracy=0.4893999993801117"
       ]
      },
      {
       "output_type": "stream",
       "stream": "stdout",
       "text": [
        "\n",
        "Epoch 17, CIFAR-10 Batch 1:  "
       ]
      },
      {
       "output_type": "stream",
       "stream": "stdout",
       "text": [
        "Loss=0.7609673142433167 ValidationAccuracy=0.5081999897956848"
       ]
      },
      {
       "output_type": "stream",
       "stream": "stdout",
       "text": [
        "\n",
        "Epoch 18, CIFAR-10 Batch 1:  "
       ]
      },
      {
       "output_type": "stream",
       "stream": "stdout",
       "text": [
        "Loss=0.6953678727149963 ValidationAccuracy=0.506600022315979"
       ]
      },
      {
       "output_type": "stream",
       "stream": "stdout",
       "text": [
        "\n",
        "Epoch 19, CIFAR-10 Batch 1:  "
       ]
      },
      {
       "output_type": "stream",
       "stream": "stdout",
       "text": [
        "Loss=0.6600831151008606 ValidationAccuracy=0.5031999945640564"
       ]
      },
      {
       "output_type": "stream",
       "stream": "stdout",
       "text": [
        "\n",
        "Epoch 20, CIFAR-10 Batch 1:  "
       ]
      },
      {
       "output_type": "stream",
       "stream": "stdout",
       "text": [
        "Loss=0.6105424761772156 ValidationAccuracy=0.5112000107765198"
       ]
      },
      {
       "output_type": "stream",
       "stream": "stdout",
       "text": [
        "\n",
        "Epoch 21, CIFAR-10 Batch 1:  "
       ]
      },
      {
       "output_type": "stream",
       "stream": "stdout",
       "text": [
        "Loss=0.5447660088539124 ValidationAccuracy=0.5134000182151794"
       ]
      },
      {
       "output_type": "stream",
       "stream": "stdout",
       "text": [
        "\n",
        "Epoch 22, CIFAR-10 Batch 1:  "
       ]
      },
      {
       "output_type": "stream",
       "stream": "stdout",
       "text": [
        "Loss=0.5187557935714722 ValidationAccuracy=0.5127999782562256"
       ]
      },
      {
       "output_type": "stream",
       "stream": "stdout",
       "text": [
        "\n",
        "Epoch 23, CIFAR-10 Batch 1:  "
       ]
      },
      {
       "output_type": "stream",
       "stream": "stdout",
       "text": [
        "Loss=0.45600464940071106 ValidationAccuracy=0.5242000222206116"
       ]
      },
      {
       "output_type": "stream",
       "stream": "stdout",
       "text": [
        "\n",
        "Epoch 24, CIFAR-10 Batch 1:  "
       ]
      },
      {
       "output_type": "stream",
       "stream": "stdout",
       "text": [
        "Loss=0.40008947253227234 ValidationAccuracy=0.5224000215530396"
       ]
      },
      {
       "output_type": "stream",
       "stream": "stdout",
       "text": [
        "\n",
        "Epoch 25, CIFAR-10 Batch 1:  "
       ]
      },
      {
       "output_type": "stream",
       "stream": "stdout",
       "text": [
        "Loss=0.36722180247306824 ValidationAccuracy=0.5221999883651733"
       ]
      },
      {
       "output_type": "stream",
       "stream": "stdout",
       "text": [
        "\n"
       ]
      }
     ],
     "prompt_number": 26
    },
    {
     "cell_type": "markdown",
     "metadata": {},
     "source": [
      "### Fully Train the Model\n",
      "Now that you got a good accuracy with a single CIFAR-10 batch, try it with all five batches."
     ]
    },
    {
     "cell_type": "code",
     "collapsed": false,
     "input": [
      "\"\"\"\n",
      "DON'T MODIFY ANYTHING IN THIS CELL\n",
      "\"\"\"\n",
      "save_model_path = './image_classification'\n",
      "\n",
      "print('Training...')\n",
      "with tf.Session() as sess:\n",
      "    # Initializing the variables\n",
      "    sess.run(tf.global_variables_initializer())\n",
      "    \n",
      "    # Training cycle\n",
      "    for epoch in range(epochs):\n",
      "        # Loop over all batches\n",
      "        n_batches = 5\n",
      "        for batch_i in range(1, n_batches + 1):\n",
      "            for batch_features, batch_labels in helper.load_preprocess_training_batch(batch_i, batch_size):\n",
      "                train_neural_network(sess, optimizer, keep_probability, batch_features, batch_labels)\n",
      "            print('Epoch {:>2}, CIFAR-10 Batch {}:  '.format(epoch + 1, batch_i), end='')\n",
      "            print_stats(sess, batch_features, batch_labels, cost, accuracy)\n",
      "            \n",
      "    # Save Model\n",
      "    saver = tf.train.Saver()\n",
      "    save_path = saver.save(sess, save_model_path)"
     ],
     "language": "python",
     "metadata": {},
     "outputs": [
      {
       "output_type": "stream",
       "stream": "stdout",
       "text": [
        "Training...\n",
        "Epoch  1, CIFAR-10 Batch 1:  "
       ]
      },
      {
       "output_type": "stream",
       "stream": "stdout",
       "text": [
        "Loss=2.5268642902374268 ValidationAccuracy=0.18039999902248383"
       ]
      },
      {
       "output_type": "stream",
       "stream": "stdout",
       "text": [
        "\n",
        "Epoch  1, CIFAR-10 Batch 2:  "
       ]
      },
      {
       "output_type": "stream",
       "stream": "stdout",
       "text": [
        "Loss=2.1692399978637695 ValidationAccuracy=0.21320000290870667"
       ]
      },
      {
       "output_type": "stream",
       "stream": "stdout",
       "text": [
        "\n",
        "Epoch  1, CIFAR-10 Batch 3:  "
       ]
      },
      {
       "output_type": "stream",
       "stream": "stdout",
       "text": [
        "Loss=2.018157958984375 ValidationAccuracy=0.2709999978542328"
       ]
      },
      {
       "output_type": "stream",
       "stream": "stdout",
       "text": [
        "\n",
        "Epoch  1, CIFAR-10 Batch 4:  "
       ]
      },
      {
       "output_type": "stream",
       "stream": "stdout",
       "text": [
        "Loss=1.8409476280212402 ValidationAccuracy=0.33660000562667847"
       ]
      },
      {
       "output_type": "stream",
       "stream": "stdout",
       "text": [
        "\n",
        "Epoch  1, CIFAR-10 Batch 5:  "
       ]
      },
      {
       "output_type": "stream",
       "stream": "stdout",
       "text": [
        "Loss=1.728593349456787 ValidationAccuracy=0.376800000667572"
       ]
      },
      {
       "output_type": "stream",
       "stream": "stdout",
       "text": [
        "\n",
        "Epoch  2, CIFAR-10 Batch 1:  "
       ]
      },
      {
       "output_type": "stream",
       "stream": "stdout",
       "text": [
        "Loss=1.662701964378357 ValidationAccuracy=0.4036000072956085"
       ]
      },
      {
       "output_type": "stream",
       "stream": "stdout",
       "text": [
        "\n",
        "Epoch  2, CIFAR-10 Batch 2:  "
       ]
      },
      {
       "output_type": "stream",
       "stream": "stdout",
       "text": [
        "Loss=1.5741076469421387 ValidationAccuracy=0.4284000098705292"
       ]
      },
      {
       "output_type": "stream",
       "stream": "stdout",
       "text": [
        "\n",
        "Epoch  2, CIFAR-10 Batch 3:  "
       ]
      },
      {
       "output_type": "stream",
       "stream": "stdout",
       "text": [
        "Loss=1.4668534994125366 ValidationAccuracy=0.44839999079704285"
       ]
      },
      {
       "output_type": "stream",
       "stream": "stdout",
       "text": [
        "\n",
        "Epoch  2, CIFAR-10 Batch 4:  "
       ]
      },
      {
       "output_type": "stream",
       "stream": "stdout",
       "text": [
        "Loss=1.4786745309829712 ValidationAccuracy=0.459199994802475"
       ]
      },
      {
       "output_type": "stream",
       "stream": "stdout",
       "text": [
        "\n",
        "Epoch  2, CIFAR-10 Batch 5:  "
       ]
      },
      {
       "output_type": "stream",
       "stream": "stdout",
       "text": [
        "Loss=1.4444280862808228 ValidationAccuracy=0.45980000495910645"
       ]
      },
      {
       "output_type": "stream",
       "stream": "stdout",
       "text": [
        "\n",
        "Epoch  3, CIFAR-10 Batch 1:  "
       ]
      },
      {
       "output_type": "stream",
       "stream": "stdout",
       "text": [
        "Loss=1.4516654014587402 ValidationAccuracy=0.4851999878883362"
       ]
      },
      {
       "output_type": "stream",
       "stream": "stdout",
       "text": [
        "\n",
        "Epoch  3, CIFAR-10 Batch 2:  "
       ]
      },
      {
       "output_type": "stream",
       "stream": "stdout",
       "text": [
        "Loss=1.378232717514038 ValidationAccuracy=0.48399999737739563"
       ]
      },
      {
       "output_type": "stream",
       "stream": "stdout",
       "text": [
        "\n",
        "Epoch  3, CIFAR-10 Batch 3:  "
       ]
      },
      {
       "output_type": "stream",
       "stream": "stdout",
       "text": [
        "Loss=1.2961491346359253 ValidationAccuracy=0.4950000047683716"
       ]
      },
      {
       "output_type": "stream",
       "stream": "stdout",
       "text": [
        "\n",
        "Epoch  3, CIFAR-10 Batch 4:  "
       ]
      },
      {
       "output_type": "stream",
       "stream": "stdout",
       "text": [
        "Loss=1.3248333930969238 ValidationAccuracy=0.49900001287460327"
       ]
      },
      {
       "output_type": "stream",
       "stream": "stdout",
       "text": [
        "\n",
        "Epoch  3, CIFAR-10 Batch 5:  "
       ]
      },
      {
       "output_type": "stream",
       "stream": "stdout",
       "text": [
        "Loss=1.2968862056732178 ValidationAccuracy=0.49779999256134033"
       ]
      },
      {
       "output_type": "stream",
       "stream": "stdout",
       "text": [
        "\n",
        "Epoch  4, CIFAR-10 Batch 1:  "
       ]
      },
      {
       "output_type": "stream",
       "stream": "stdout",
       "text": [
        "Loss=1.323218584060669 ValidationAccuracy=0.5076000094413757"
       ]
      },
      {
       "output_type": "stream",
       "stream": "stdout",
       "text": [
        "\n",
        "Epoch  4, CIFAR-10 Batch 2:  "
       ]
      },
      {
       "output_type": "stream",
       "stream": "stdout",
       "text": [
        "Loss=1.2706513404846191 ValidationAccuracy=0.5076000094413757"
       ]
      },
      {
       "output_type": "stream",
       "stream": "stdout",
       "text": [
        "\n",
        "Epoch  4, CIFAR-10 Batch 3:  "
       ]
      },
      {
       "output_type": "stream",
       "stream": "stdout",
       "text": [
        "Loss=1.1980459690093994 ValidationAccuracy=0.5170000195503235"
       ]
      },
      {
       "output_type": "stream",
       "stream": "stdout",
       "text": [
        "\n",
        "Epoch  4, CIFAR-10 Batch 4:  "
       ]
      },
      {
       "output_type": "stream",
       "stream": "stdout",
       "text": [
        "Loss=1.2194664478302002 ValidationAccuracy=0.5238000154495239"
       ]
      },
      {
       "output_type": "stream",
       "stream": "stdout",
       "text": [
        "\n",
        "Epoch  4, CIFAR-10 Batch 5:  "
       ]
      },
      {
       "output_type": "stream",
       "stream": "stdout",
       "text": [
        "Loss=1.181689739227295 ValidationAccuracy=0.5289999842643738"
       ]
      },
      {
       "output_type": "stream",
       "stream": "stdout",
       "text": [
        "\n",
        "Epoch  5, CIFAR-10 Batch 1:  "
       ]
      },
      {
       "output_type": "stream",
       "stream": "stdout",
       "text": [
        "Loss=1.2251056432724 ValidationAccuracy=0.5293999910354614"
       ]
      },
      {
       "output_type": "stream",
       "stream": "stdout",
       "text": [
        "\n",
        "Epoch  5, CIFAR-10 Batch 2:  "
       ]
      },
      {
       "output_type": "stream",
       "stream": "stdout",
       "text": [
        "Loss=1.1975688934326172 ValidationAccuracy=0.5235999822616577"
       ]
      },
      {
       "output_type": "stream",
       "stream": "stdout",
       "text": [
        "\n",
        "Epoch  5, CIFAR-10 Batch 3:  "
       ]
      },
      {
       "output_type": "stream",
       "stream": "stdout",
       "text": [
        "Loss=1.1249345541000366 ValidationAccuracy=0.5307999849319458"
       ]
      },
      {
       "output_type": "stream",
       "stream": "stdout",
       "text": [
        "\n",
        "Epoch  5, CIFAR-10 Batch 4:  "
       ]
      },
      {
       "output_type": "stream",
       "stream": "stdout",
       "text": [
        "Loss=1.114106297492981 ValidationAccuracy=0.545199990272522"
       ]
      },
      {
       "output_type": "stream",
       "stream": "stdout",
       "text": [
        "\n",
        "Epoch  5, CIFAR-10 Batch 5:  "
       ]
      },
      {
       "output_type": "stream",
       "stream": "stdout",
       "text": [
        "Loss=1.0990699529647827 ValidationAccuracy=0.5473999977111816"
       ]
      },
      {
       "output_type": "stream",
       "stream": "stdout",
       "text": [
        "\n",
        "Epoch  6, CIFAR-10 Batch 1:  "
       ]
      },
      {
       "output_type": "stream",
       "stream": "stdout",
       "text": [
        "Loss=1.117514729499817 ValidationAccuracy=0.5533999800682068"
       ]
      },
      {
       "output_type": "stream",
       "stream": "stdout",
       "text": [
        "\n",
        "Epoch  6, CIFAR-10 Batch 2:  "
       ]
      },
      {
       "output_type": "stream",
       "stream": "stdout",
       "text": [
        "Loss=1.1104673147201538 ValidationAccuracy=0.5559999942779541"
       ]
      },
      {
       "output_type": "stream",
       "stream": "stdout",
       "text": [
        "\n",
        "Epoch  6, CIFAR-10 Batch 3:  "
       ]
      },
      {
       "output_type": "stream",
       "stream": "stdout",
       "text": [
        "Loss=1.0558918714523315 ValidationAccuracy=0.5479999780654907"
       ]
      },
      {
       "output_type": "stream",
       "stream": "stdout",
       "text": [
        "\n",
        "Epoch  6, CIFAR-10 Batch 4:  "
       ]
      },
      {
       "output_type": "stream",
       "stream": "stdout",
       "text": [
        "Loss=1.0346895456314087 ValidationAccuracy=0.5600000023841858"
       ]
      },
      {
       "output_type": "stream",
       "stream": "stdout",
       "text": [
        "\n",
        "Epoch  6, CIFAR-10 Batch 5:  "
       ]
      },
      {
       "output_type": "stream",
       "stream": "stdout",
       "text": [
        "Loss=1.010947585105896 ValidationAccuracy=0.5591999888420105"
       ]
      },
      {
       "output_type": "stream",
       "stream": "stdout",
       "text": [
        "\n",
        "Epoch  7, CIFAR-10 Batch 1:  "
       ]
      },
      {
       "output_type": "stream",
       "stream": "stdout",
       "text": [
        "Loss=1.038691520690918 ValidationAccuracy=0.5687999725341797"
       ]
      },
      {
       "output_type": "stream",
       "stream": "stdout",
       "text": [
        "\n",
        "Epoch  7, CIFAR-10 Batch 2:  "
       ]
      },
      {
       "output_type": "stream",
       "stream": "stdout",
       "text": [
        "Loss=1.0450491905212402 ValidationAccuracy=0.5698000192642212"
       ]
      },
      {
       "output_type": "stream",
       "stream": "stdout",
       "text": [
        "\n",
        "Epoch  7, CIFAR-10 Batch 3:  "
       ]
      },
      {
       "output_type": "stream",
       "stream": "stdout",
       "text": [
        "Loss=0.9831880927085876 ValidationAccuracy=0.5631999969482422"
       ]
      },
      {
       "output_type": "stream",
       "stream": "stdout",
       "text": [
        "\n",
        "Epoch  7, CIFAR-10 Batch 4:  "
       ]
      },
      {
       "output_type": "stream",
       "stream": "stdout",
       "text": [
        "Loss=0.9702871441841125 ValidationAccuracy=0.5676000118255615"
       ]
      },
      {
       "output_type": "stream",
       "stream": "stdout",
       "text": [
        "\n",
        "Epoch  7, CIFAR-10 Batch 5:  "
       ]
      },
      {
       "output_type": "stream",
       "stream": "stdout",
       "text": [
        "Loss=0.9314051270484924 ValidationAccuracy=0.5659999847412109"
       ]
      },
      {
       "output_type": "stream",
       "stream": "stdout",
       "text": [
        "\n",
        "Epoch  8, CIFAR-10 Batch 1:  "
       ]
      },
      {
       "output_type": "stream",
       "stream": "stdout",
       "text": [
        "Loss=0.956687867641449 ValidationAccuracy=0.5781999826431274"
       ]
      },
      {
       "output_type": "stream",
       "stream": "stdout",
       "text": [
        "\n",
        "Epoch  8, CIFAR-10 Batch 2:  "
       ]
      },
      {
       "output_type": "stream",
       "stream": "stdout",
       "text": [
        "Loss=0.972649097442627 ValidationAccuracy=0.5741999745368958"
       ]
      },
      {
       "output_type": "stream",
       "stream": "stdout",
       "text": [
        "\n",
        "Epoch  8, CIFAR-10 Batch 3:  "
       ]
      },
      {
       "output_type": "stream",
       "stream": "stdout",
       "text": [
        "Loss=0.9161364436149597 ValidationAccuracy=0.574400007724762"
       ]
      },
      {
       "output_type": "stream",
       "stream": "stdout",
       "text": [
        "\n",
        "Epoch  8, CIFAR-10 Batch 4:  "
       ]
      },
      {
       "output_type": "stream",
       "stream": "stdout",
       "text": [
        "Loss=0.8909603953361511 ValidationAccuracy=0.5752000212669373"
       ]
      },
      {
       "output_type": "stream",
       "stream": "stdout",
       "text": [
        "\n",
        "Epoch  8, CIFAR-10 Batch 5:  "
       ]
      },
      {
       "output_type": "stream",
       "stream": "stdout",
       "text": [
        "Loss=0.8624600172042847 ValidationAccuracy=0.5738000273704529"
       ]
      },
      {
       "output_type": "stream",
       "stream": "stdout",
       "text": [
        "\n",
        "Epoch  9, CIFAR-10 Batch 1:  "
       ]
      },
      {
       "output_type": "stream",
       "stream": "stdout",
       "text": [
        "Loss=0.8975419402122498 ValidationAccuracy=0.5834000110626221"
       ]
      },
      {
       "output_type": "stream",
       "stream": "stdout",
       "text": [
        "\n",
        "Epoch  9, CIFAR-10 Batch 2:  "
       ]
      },
      {
       "output_type": "stream",
       "stream": "stdout",
       "text": [
        "Loss=0.9236835837364197 ValidationAccuracy=0.5838000178337097"
       ]
      },
      {
       "output_type": "stream",
       "stream": "stdout",
       "text": [
        "\n",
        "Epoch  9, CIFAR-10 Batch 3:  "
       ]
      },
      {
       "output_type": "stream",
       "stream": "stdout",
       "text": [
        "Loss=0.8555871844291687 ValidationAccuracy=0.5835999846458435"
       ]
      },
      {
       "output_type": "stream",
       "stream": "stdout",
       "text": [
        "\n",
        "Epoch  9, CIFAR-10 Batch 4:  "
       ]
      },
      {
       "output_type": "stream",
       "stream": "stdout",
       "text": [
        "Loss=0.8162207007408142 ValidationAccuracy=0.5871999859809875"
       ]
      },
      {
       "output_type": "stream",
       "stream": "stdout",
       "text": [
        "\n",
        "Epoch  9, CIFAR-10 Batch 5:  "
       ]
      },
      {
       "output_type": "stream",
       "stream": "stdout",
       "text": [
        "Loss=0.7838420867919922 ValidationAccuracy=0.5839999914169312"
       ]
      },
      {
       "output_type": "stream",
       "stream": "stdout",
       "text": [
        "\n",
        "Epoch 10, CIFAR-10 Batch 1:  "
       ]
      },
      {
       "output_type": "stream",
       "stream": "stdout",
       "text": [
        "Loss=0.8296247720718384 ValidationAccuracy=0.5929999947547913"
       ]
      },
      {
       "output_type": "stream",
       "stream": "stdout",
       "text": [
        "\n",
        "Epoch 10, CIFAR-10 Batch 2:  "
       ]
      },
      {
       "output_type": "stream",
       "stream": "stdout",
       "text": [
        "Loss=0.85069340467453 ValidationAccuracy=0.5910000205039978"
       ]
      },
      {
       "output_type": "stream",
       "stream": "stdout",
       "text": [
        "\n",
        "Epoch 10, CIFAR-10 Batch 3:  "
       ]
      },
      {
       "output_type": "stream",
       "stream": "stdout",
       "text": [
        "Loss=0.8351241946220398 ValidationAccuracy=0.5752000212669373"
       ]
      },
      {
       "output_type": "stream",
       "stream": "stdout",
       "text": [
        "\n",
        "Epoch 10, CIFAR-10 Batch 4:  "
       ]
      },
      {
       "output_type": "stream",
       "stream": "stdout",
       "text": [
        "Loss=0.8132666945457458 ValidationAccuracy=0.5748000144958496"
       ]
      },
      {
       "output_type": "stream",
       "stream": "stdout",
       "text": [
        "\n",
        "Epoch 10, CIFAR-10 Batch 5:  "
       ]
      },
      {
       "output_type": "stream",
       "stream": "stdout",
       "text": [
        "Loss=0.7680709958076477 ValidationAccuracy=0.5799999833106995"
       ]
      },
      {
       "output_type": "stream",
       "stream": "stdout",
       "text": [
        "\n",
        "Epoch 11, CIFAR-10 Batch 1:  "
       ]
      },
      {
       "output_type": "stream",
       "stream": "stdout",
       "text": [
        "Loss=0.8132055997848511 ValidationAccuracy=0.579200029373169"
       ]
      },
      {
       "output_type": "stream",
       "stream": "stdout",
       "text": [
        "\n",
        "Epoch 11, CIFAR-10 Batch 2:  "
       ]
      },
      {
       "output_type": "stream",
       "stream": "stdout",
       "text": [
        "Loss=0.8015855550765991 ValidationAccuracy=0.5888000130653381"
       ]
      },
      {
       "output_type": "stream",
       "stream": "stdout",
       "text": [
        "\n",
        "Epoch 11, CIFAR-10 Batch 3:  "
       ]
      },
      {
       "output_type": "stream",
       "stream": "stdout",
       "text": [
        "Loss=0.7380263209342957 ValidationAccuracy=0.5992000102996826"
       ]
      },
      {
       "output_type": "stream",
       "stream": "stdout",
       "text": [
        "\n",
        "Epoch 11, CIFAR-10 Batch 4:  "
       ]
      },
      {
       "output_type": "stream",
       "stream": "stdout",
       "text": [
        "Loss=0.7212684154510498 ValidationAccuracy=0.5878000259399414"
       ]
      },
      {
       "output_type": "stream",
       "stream": "stdout",
       "text": [
        "\n",
        "Epoch 11, CIFAR-10 Batch 5:  "
       ]
      },
      {
       "output_type": "stream",
       "stream": "stdout",
       "text": [
        "Loss=0.7094109654426575 ValidationAccuracy=0.5902000069618225"
       ]
      },
      {
       "output_type": "stream",
       "stream": "stdout",
       "text": [
        "\n",
        "Epoch 12, CIFAR-10 Batch 1:  "
       ]
      },
      {
       "output_type": "stream",
       "stream": "stdout",
       "text": [
        "Loss=0.7417322397232056 ValidationAccuracy=0.5834000110626221"
       ]
      },
      {
       "output_type": "stream",
       "stream": "stdout",
       "text": [
        "\n",
        "Epoch 12, CIFAR-10 Batch 2:  "
       ]
      },
      {
       "output_type": "stream",
       "stream": "stdout",
       "text": [
        "Loss=0.716019332408905 ValidationAccuracy=0.6051999926567078"
       ]
      },
      {
       "output_type": "stream",
       "stream": "stdout",
       "text": [
        "\n",
        "Epoch 12, CIFAR-10 Batch 3:  "
       ]
      },
      {
       "output_type": "stream",
       "stream": "stdout",
       "text": [
        "Loss=0.6726751327514648 ValidationAccuracy=0.6057999730110168"
       ]
      },
      {
       "output_type": "stream",
       "stream": "stdout",
       "text": [
        "\n",
        "Epoch 12, CIFAR-10 Batch 4:  "
       ]
      },
      {
       "output_type": "stream",
       "stream": "stdout",
       "text": [
        "Loss=0.660696268081665 ValidationAccuracy=0.5910000205039978"
       ]
      },
      {
       "output_type": "stream",
       "stream": "stdout",
       "text": [
        "\n",
        "Epoch 12, CIFAR-10 Batch 5:  "
       ]
      },
      {
       "output_type": "stream",
       "stream": "stdout",
       "text": [
        "Loss=0.6401034593582153 ValidationAccuracy=0.5982000231742859"
       ]
      },
      {
       "output_type": "stream",
       "stream": "stdout",
       "text": [
        "\n",
        "Epoch 13, CIFAR-10 Batch 1:  "
       ]
      },
      {
       "output_type": "stream",
       "stream": "stdout",
       "text": [
        "Loss=0.6564703583717346 ValidationAccuracy=0.6000000238418579"
       ]
      },
      {
       "output_type": "stream",
       "stream": "stdout",
       "text": [
        "\n",
        "Epoch 13, CIFAR-10 Batch 2:  "
       ]
      },
      {
       "output_type": "stream",
       "stream": "stdout",
       "text": [
        "Loss=0.6558117866516113 ValidationAccuracy=0.6069999933242798"
       ]
      },
      {
       "output_type": "stream",
       "stream": "stdout",
       "text": [
        "\n",
        "Epoch 13, CIFAR-10 Batch 3:  "
       ]
      },
      {
       "output_type": "stream",
       "stream": "stdout",
       "text": [
        "Loss=0.6284894347190857 ValidationAccuracy=0.6050000190734863"
       ]
      },
      {
       "output_type": "stream",
       "stream": "stdout",
       "text": [
        "\n",
        "Epoch 13, CIFAR-10 Batch 4:  "
       ]
      },
      {
       "output_type": "stream",
       "stream": "stdout",
       "text": [
        "Loss=0.6066460609436035 ValidationAccuracy=0.5952000021934509"
       ]
      },
      {
       "output_type": "stream",
       "stream": "stdout",
       "text": [
        "\n",
        "Epoch 13, CIFAR-10 Batch 5:  "
       ]
      },
      {
       "output_type": "stream",
       "stream": "stdout",
       "text": [
        "Loss=0.5683467388153076 ValidationAccuracy=0.6021999716758728"
       ]
      },
      {
       "output_type": "stream",
       "stream": "stdout",
       "text": [
        "\n",
        "Epoch 14, CIFAR-10 Batch 1:  "
       ]
      },
      {
       "output_type": "stream",
       "stream": "stdout",
       "text": [
        "Loss=0.5984111428260803 ValidationAccuracy=0.6018000245094299"
       ]
      },
      {
       "output_type": "stream",
       "stream": "stdout",
       "text": [
        "\n",
        "Epoch 14, CIFAR-10 Batch 2:  "
       ]
      },
      {
       "output_type": "stream",
       "stream": "stdout",
       "text": [
        "Loss=0.5850473046302795 ValidationAccuracy=0.6061999797821045"
       ]
      },
      {
       "output_type": "stream",
       "stream": "stdout",
       "text": [
        "\n",
        "Epoch 14, CIFAR-10 Batch 3:  "
       ]
      },
      {
       "output_type": "stream",
       "stream": "stdout",
       "text": [
        "Loss=0.594006359577179 ValidationAccuracy=0.603600025177002"
       ]
      },
      {
       "output_type": "stream",
       "stream": "stdout",
       "text": [
        "\n",
        "Epoch 14, CIFAR-10 Batch 4:  "
       ]
      },
      {
       "output_type": "stream",
       "stream": "stdout",
       "text": [
        "Loss=0.5573660135269165 ValidationAccuracy=0.5982000231742859"
       ]
      },
      {
       "output_type": "stream",
       "stream": "stdout",
       "text": [
        "\n",
        "Epoch 14, CIFAR-10 Batch 5:  "
       ]
      },
      {
       "output_type": "stream",
       "stream": "stdout",
       "text": [
        "Loss=0.5694379806518555 ValidationAccuracy=0.5843999981880188"
       ]
      },
      {
       "output_type": "stream",
       "stream": "stdout",
       "text": [
        "\n",
        "Epoch 15, CIFAR-10 Batch 1:  "
       ]
      },
      {
       "output_type": "stream",
       "stream": "stdout",
       "text": [
        "Loss=0.5531625747680664 ValidationAccuracy=0.6001999974250793"
       ]
      },
      {
       "output_type": "stream",
       "stream": "stdout",
       "text": [
        "\n",
        "Epoch 15, CIFAR-10 Batch 2:  "
       ]
      },
      {
       "output_type": "stream",
       "stream": "stdout",
       "text": [
        "Loss=0.5575186610221863 ValidationAccuracy=0.6032000184059143"
       ]
      },
      {
       "output_type": "stream",
       "stream": "stdout",
       "text": [
        "\n",
        "Epoch 15, CIFAR-10 Batch 3:  "
       ]
      },
      {
       "output_type": "stream",
       "stream": "stdout",
       "text": [
        "Loss=0.530123233795166 ValidationAccuracy=0.6079999804496765"
       ]
      },
      {
       "output_type": "stream",
       "stream": "stdout",
       "text": [
        "\n",
        "Epoch 15, CIFAR-10 Batch 4:  "
       ]
      },
      {
       "output_type": "stream",
       "stream": "stdout",
       "text": [
        "Loss=0.5183640718460083 ValidationAccuracy=0.597599983215332"
       ]
      },
      {
       "output_type": "stream",
       "stream": "stdout",
       "text": [
        "\n",
        "Epoch 15, CIFAR-10 Batch 5:  "
       ]
      },
      {
       "output_type": "stream",
       "stream": "stdout",
       "text": [
        "Loss=0.5061041116714478 ValidationAccuracy=0.5849999785423279"
       ]
      },
      {
       "output_type": "stream",
       "stream": "stdout",
       "text": [
        "\n",
        "Epoch 16, CIFAR-10 Batch 1:  "
       ]
      },
      {
       "output_type": "stream",
       "stream": "stdout",
       "text": [
        "Loss=0.5357431769371033 ValidationAccuracy=0.6051999926567078"
       ]
      },
      {
       "output_type": "stream",
       "stream": "stdout",
       "text": [
        "\n",
        "Epoch 16, CIFAR-10 Batch 2:  "
       ]
      },
      {
       "output_type": "stream",
       "stream": "stdout",
       "text": [
        "Loss=0.5258380174636841 ValidationAccuracy=0.6032000184059143"
       ]
      },
      {
       "output_type": "stream",
       "stream": "stdout",
       "text": [
        "\n",
        "Epoch 16, CIFAR-10 Batch 3:  "
       ]
      },
      {
       "output_type": "stream",
       "stream": "stdout",
       "text": [
        "Loss=0.4977908432483673 ValidationAccuracy=0.6025999784469604"
       ]
      },
      {
       "output_type": "stream",
       "stream": "stdout",
       "text": [
        "\n",
        "Epoch 16, CIFAR-10 Batch 4:  "
       ]
      },
      {
       "output_type": "stream",
       "stream": "stdout",
       "text": [
        "Loss=0.46121978759765625 ValidationAccuracy=0.6000000238418579"
       ]
      },
      {
       "output_type": "stream",
       "stream": "stdout",
       "text": [
        "\n",
        "Epoch 16, CIFAR-10 Batch 5:  "
       ]
      },
      {
       "output_type": "stream",
       "stream": "stdout",
       "text": [
        "Loss=0.4818470776081085 ValidationAccuracy=0.58160001039505"
       ]
      },
      {
       "output_type": "stream",
       "stream": "stdout",
       "text": [
        "\n",
        "Epoch 17, CIFAR-10 Batch 1:  "
       ]
      },
      {
       "output_type": "stream",
       "stream": "stdout",
       "text": [
        "Loss=0.4938614070415497 ValidationAccuracy=0.597599983215332"
       ]
      },
      {
       "output_type": "stream",
       "stream": "stdout",
       "text": [
        "\n",
        "Epoch 17, CIFAR-10 Batch 2:  "
       ]
      },
      {
       "output_type": "stream",
       "stream": "stdout",
       "text": [
        "Loss=0.4745933413505554 ValidationAccuracy=0.605400025844574"
       ]
      },
      {
       "output_type": "stream",
       "stream": "stdout",
       "text": [
        "\n",
        "Epoch 17, CIFAR-10 Batch 3:  "
       ]
      },
      {
       "output_type": "stream",
       "stream": "stdout",
       "text": [
        "Loss=0.46255800127983093 ValidationAccuracy=0.6014000177383423"
       ]
      },
      {
       "output_type": "stream",
       "stream": "stdout",
       "text": [
        "\n",
        "Epoch 17, CIFAR-10 Batch 4:  "
       ]
      },
      {
       "output_type": "stream",
       "stream": "stdout",
       "text": [
        "Loss=0.4201280176639557 ValidationAccuracy=0.6086000204086304"
       ]
      },
      {
       "output_type": "stream",
       "stream": "stdout",
       "text": [
        "\n",
        "Epoch 17, CIFAR-10 Batch 5:  "
       ]
      },
      {
       "output_type": "stream",
       "stream": "stdout",
       "text": [
        "Loss=0.43255025148391724 ValidationAccuracy=0.5807999968528748"
       ]
      },
      {
       "output_type": "stream",
       "stream": "stdout",
       "text": [
        "\n",
        "Epoch 18, CIFAR-10 Batch 1:  "
       ]
      },
      {
       "output_type": "stream",
       "stream": "stdout",
       "text": [
        "Loss=0.5044519305229187 ValidationAccuracy=0.5892000198364258"
       ]
      },
      {
       "output_type": "stream",
       "stream": "stdout",
       "text": [
        "\n",
        "Epoch 18, CIFAR-10 Batch 2:  "
       ]
      },
      {
       "output_type": "stream",
       "stream": "stdout",
       "text": [
        "Loss=0.47088661789894104 ValidationAccuracy=0.6011999845504761"
       ]
      },
      {
       "output_type": "stream",
       "stream": "stdout",
       "text": [
        "\n",
        "Epoch 18, CIFAR-10 Batch 3:  "
       ]
      },
      {
       "output_type": "stream",
       "stream": "stdout",
       "text": [
        "Loss=0.42207226157188416 ValidationAccuracy=0.6079999804496765"
       ]
      },
      {
       "output_type": "stream",
       "stream": "stdout",
       "text": [
        "\n",
        "Epoch 18, CIFAR-10 Batch 4:  "
       ]
      },
      {
       "output_type": "stream",
       "stream": "stdout",
       "text": [
        "Loss=0.4102270305156708 ValidationAccuracy=0.5979999899864197"
       ]
      },
      {
       "output_type": "stream",
       "stream": "stdout",
       "text": [
        "\n",
        "Epoch 18, CIFAR-10 Batch 5:  "
       ]
      },
      {
       "output_type": "stream",
       "stream": "stdout",
       "text": [
        "Loss=0.40015238523483276 ValidationAccuracy=0.5879999995231628"
       ]
      },
      {
       "output_type": "stream",
       "stream": "stdout",
       "text": [
        "\n",
        "Epoch 19, CIFAR-10 Batch 1:  "
       ]
      },
      {
       "output_type": "stream",
       "stream": "stdout",
       "text": [
        "Loss=0.4621143639087677 ValidationAccuracy=0.5934000015258789"
       ]
      },
      {
       "output_type": "stream",
       "stream": "stdout",
       "text": [
        "\n",
        "Epoch 19, CIFAR-10 Batch 2:  "
       ]
      },
      {
       "output_type": "stream",
       "stream": "stdout",
       "text": [
        "Loss=0.4653175175189972 ValidationAccuracy=0.5767999887466431"
       ]
      },
      {
       "output_type": "stream",
       "stream": "stdout",
       "text": [
        "\n",
        "Epoch 19, CIFAR-10 Batch 3:  "
       ]
      },
      {
       "output_type": "stream",
       "stream": "stdout",
       "text": [
        "Loss=0.45201385021209717 ValidationAccuracy=0.6100000143051147"
       ]
      },
      {
       "output_type": "stream",
       "stream": "stdout",
       "text": [
        "\n",
        "Epoch 19, CIFAR-10 Batch 4:  "
       ]
      },
      {
       "output_type": "stream",
       "stream": "stdout",
       "text": [
        "Loss=0.40238747000694275 ValidationAccuracy=0.6075999736785889"
       ]
      },
      {
       "output_type": "stream",
       "stream": "stdout",
       "text": [
        "\n",
        "Epoch 19, CIFAR-10 Batch 5:  "
       ]
      },
      {
       "output_type": "stream",
       "stream": "stdout",
       "text": [
        "Loss=0.4033665657043457 ValidationAccuracy=0.5906000137329102"
       ]
      },
      {
       "output_type": "stream",
       "stream": "stdout",
       "text": [
        "\n",
        "Epoch 20, CIFAR-10 Batch 1:  "
       ]
      },
      {
       "output_type": "stream",
       "stream": "stdout",
       "text": [
        "Loss=0.4236568510532379 ValidationAccuracy=0.5910000205039978"
       ]
      },
      {
       "output_type": "stream",
       "stream": "stdout",
       "text": [
        "\n",
        "Epoch 20, CIFAR-10 Batch 2:  "
       ]
      },
      {
       "output_type": "stream",
       "stream": "stdout",
       "text": [
        "Loss=0.47373780608177185 ValidationAccuracy=0.5809999704360962"
       ]
      },
      {
       "output_type": "stream",
       "stream": "stdout",
       "text": [
        "\n",
        "Epoch 20, CIFAR-10 Batch 3:  "
       ]
      },
      {
       "output_type": "stream",
       "stream": "stdout",
       "text": [
        "Loss=0.42004433274269104 ValidationAccuracy=0.599399983882904"
       ]
      },
      {
       "output_type": "stream",
       "stream": "stdout",
       "text": [
        "\n",
        "Epoch 20, CIFAR-10 Batch 4:  "
       ]
      },
      {
       "output_type": "stream",
       "stream": "stdout",
       "text": [
        "Loss=0.3945973217487335 ValidationAccuracy=0.5861999988555908"
       ]
      },
      {
       "output_type": "stream",
       "stream": "stdout",
       "text": [
        "\n",
        "Epoch 20, CIFAR-10 Batch 5:  "
       ]
      },
      {
       "output_type": "stream",
       "stream": "stdout",
       "text": [
        "Loss=0.4092341959476471 ValidationAccuracy=0.5856000185012817"
       ]
      },
      {
       "output_type": "stream",
       "stream": "stdout",
       "text": [
        "\n",
        "Epoch 21, CIFAR-10 Batch 1:  "
       ]
      },
      {
       "output_type": "stream",
       "stream": "stdout",
       "text": [
        "Loss=0.3702858090400696 ValidationAccuracy=0.5946000218391418"
       ]
      },
      {
       "output_type": "stream",
       "stream": "stdout",
       "text": [
        "\n",
        "Epoch 21, CIFAR-10 Batch 2:  "
       ]
      },
      {
       "output_type": "stream",
       "stream": "stdout",
       "text": [
        "Loss=0.39347541332244873 ValidationAccuracy=0.5956000089645386"
       ]
      },
      {
       "output_type": "stream",
       "stream": "stdout",
       "text": [
        "\n",
        "Epoch 21, CIFAR-10 Batch 3:  "
       ]
      },
      {
       "output_type": "stream",
       "stream": "stdout",
       "text": [
        "Loss=0.36289486289024353 ValidationAccuracy=0.6061999797821045"
       ]
      },
      {
       "output_type": "stream",
       "stream": "stdout",
       "text": [
        "\n",
        "Epoch 21, CIFAR-10 Batch 4:  "
       ]
      },
      {
       "output_type": "stream",
       "stream": "stdout",
       "text": [
        "Loss=0.32739171385765076 ValidationAccuracy=0.6021999716758728"
       ]
      },
      {
       "output_type": "stream",
       "stream": "stdout",
       "text": [
        "\n",
        "Epoch 21, CIFAR-10 Batch 5:  "
       ]
      },
      {
       "output_type": "stream",
       "stream": "stdout",
       "text": [
        "Loss=0.32773739099502563 ValidationAccuracy=0.5928000211715698"
       ]
      },
      {
       "output_type": "stream",
       "stream": "stdout",
       "text": [
        "\n",
        "Epoch 22, CIFAR-10 Batch 1:  "
       ]
      },
      {
       "output_type": "stream",
       "stream": "stdout",
       "text": [
        "Loss=0.3382304906845093 ValidationAccuracy=0.5943999886512756"
       ]
      },
      {
       "output_type": "stream",
       "stream": "stdout",
       "text": [
        "\n",
        "Epoch 22, CIFAR-10 Batch 2:  "
       ]
      },
      {
       "output_type": "stream",
       "stream": "stdout",
       "text": [
        "Loss=0.35355228185653687 ValidationAccuracy=0.6037999987602234"
       ]
      },
      {
       "output_type": "stream",
       "stream": "stdout",
       "text": [
        "\n",
        "Epoch 22, CIFAR-10 Batch 3:  "
       ]
      },
      {
       "output_type": "stream",
       "stream": "stdout",
       "text": [
        "Loss=0.33125367760658264 ValidationAccuracy=0.6079999804496765"
       ]
      },
      {
       "output_type": "stream",
       "stream": "stdout",
       "text": [
        "\n",
        "Epoch 22, CIFAR-10 Batch 4:  "
       ]
      },
      {
       "output_type": "stream",
       "stream": "stdout",
       "text": [
        "Loss=0.2910726070404053 ValidationAccuracy=0.6046000123023987"
       ]
      },
      {
       "output_type": "stream",
       "stream": "stdout",
       "text": [
        "\n",
        "Epoch 22, CIFAR-10 Batch 5:  "
       ]
      },
      {
       "output_type": "stream",
       "stream": "stdout",
       "text": [
        "Loss=0.26867225766181946 ValidationAccuracy=0.6092000007629395"
       ]
      },
      {
       "output_type": "stream",
       "stream": "stdout",
       "text": [
        "\n",
        "Epoch 23, CIFAR-10 Batch 1:  "
       ]
      },
      {
       "output_type": "stream",
       "stream": "stdout",
       "text": [
        "Loss=0.2962174117565155 ValidationAccuracy=0.6096000075340271"
       ]
      },
      {
       "output_type": "stream",
       "stream": "stdout",
       "text": [
        "\n",
        "Epoch 23, CIFAR-10 Batch 2:  "
       ]
      },
      {
       "output_type": "stream",
       "stream": "stdout",
       "text": [
        "Loss=0.2908114790916443 ValidationAccuracy=0.6115999817848206"
       ]
      },
      {
       "output_type": "stream",
       "stream": "stdout",
       "text": [
        "\n",
        "Epoch 23, CIFAR-10 Batch 3:  "
       ]
      },
      {
       "output_type": "stream",
       "stream": "stdout",
       "text": [
        "Loss=0.2879941463470459 ValidationAccuracy=0.6100000143051147"
       ]
      },
      {
       "output_type": "stream",
       "stream": "stdout",
       "text": [
        "\n",
        "Epoch 23, CIFAR-10 Batch 4:  "
       ]
      },
      {
       "output_type": "stream",
       "stream": "stdout",
       "text": [
        "Loss=0.2775944173336029 ValidationAccuracy=0.605400025844574"
       ]
      },
      {
       "output_type": "stream",
       "stream": "stdout",
       "text": [
        "\n",
        "Epoch 23, CIFAR-10 Batch 5:  "
       ]
      },
      {
       "output_type": "stream",
       "stream": "stdout",
       "text": [
        "Loss=0.251667857170105 ValidationAccuracy=0.6096000075340271"
       ]
      },
      {
       "output_type": "stream",
       "stream": "stdout",
       "text": [
        "\n",
        "Epoch 24, CIFAR-10 Batch 1:  "
       ]
      },
      {
       "output_type": "stream",
       "stream": "stdout",
       "text": [
        "Loss=0.2974770963191986 ValidationAccuracy=0.6075999736785889"
       ]
      },
      {
       "output_type": "stream",
       "stream": "stdout",
       "text": [
        "\n",
        "Epoch 24, CIFAR-10 Batch 2:  "
       ]
      },
      {
       "output_type": "stream",
       "stream": "stdout",
       "text": [
        "Loss=0.26037830114364624 ValidationAccuracy=0.6128000020980835"
       ]
      },
      {
       "output_type": "stream",
       "stream": "stdout",
       "text": [
        "\n",
        "Epoch 24, CIFAR-10 Batch 3:  "
       ]
      },
      {
       "output_type": "stream",
       "stream": "stdout",
       "text": [
        "Loss=0.23688872158527374 ValidationAccuracy=0.6168000102043152"
       ]
      },
      {
       "output_type": "stream",
       "stream": "stdout",
       "text": [
        "\n",
        "Epoch 24, CIFAR-10 Batch 4:  "
       ]
      },
      {
       "output_type": "stream",
       "stream": "stdout",
       "text": [
        "Loss=0.23156242072582245 ValidationAccuracy=0.6025999784469604"
       ]
      },
      {
       "output_type": "stream",
       "stream": "stdout",
       "text": [
        "\n",
        "Epoch 24, CIFAR-10 Batch 5:  "
       ]
      },
      {
       "output_type": "stream",
       "stream": "stdout",
       "text": [
        "Loss=0.23216024041175842 ValidationAccuracy=0.6104000210762024"
       ]
      },
      {
       "output_type": "stream",
       "stream": "stdout",
       "text": [
        "\n",
        "Epoch 25, CIFAR-10 Batch 1:  "
       ]
      },
      {
       "output_type": "stream",
       "stream": "stdout",
       "text": [
        "Loss=0.27646905183792114 ValidationAccuracy=0.6047999858856201"
       ]
      },
      {
       "output_type": "stream",
       "stream": "stdout",
       "text": [
        "\n",
        "Epoch 25, CIFAR-10 Batch 2:  "
       ]
      },
      {
       "output_type": "stream",
       "stream": "stdout",
       "text": [
        "Loss=0.2736181616783142 ValidationAccuracy=0.5996000170707703"
       ]
      },
      {
       "output_type": "stream",
       "stream": "stdout",
       "text": [
        "\n",
        "Epoch 25, CIFAR-10 Batch 3:  "
       ]
      },
      {
       "output_type": "stream",
       "stream": "stdout",
       "text": [
        "Loss=0.2552728056907654 ValidationAccuracy=0.599399983882904"
       ]
      },
      {
       "output_type": "stream",
       "stream": "stdout",
       "text": [
        "\n",
        "Epoch 25, CIFAR-10 Batch 4:  "
       ]
      },
      {
       "output_type": "stream",
       "stream": "stdout",
       "text": [
        "Loss=0.23273102939128876 ValidationAccuracy=0.5992000102996826"
       ]
      },
      {
       "output_type": "stream",
       "stream": "stdout",
       "text": [
        "\n",
        "Epoch 25, CIFAR-10 Batch 5:  "
       ]
      },
      {
       "output_type": "stream",
       "stream": "stdout",
       "text": [
        "Loss=0.20661069452762604 ValidationAccuracy=0.599399983882904"
       ]
      },
      {
       "output_type": "stream",
       "stream": "stdout",
       "text": [
        "\n"
       ]
      }
     ],
     "prompt_number": 27
    },
    {
     "cell_type": "markdown",
     "metadata": {},
     "source": [
      "# Checkpoint\n",
      "The model has been saved to disk.\n",
      "## Test Model\n",
      "Test your model against the test dataset.  This will be your final accuracy. You should have an accuracy greater than 50%. If you don't, keep tweaking the model architecture and parameters."
     ]
    },
    {
     "cell_type": "code",
     "collapsed": false,
     "input": [
      "\"\"\"\n",
      "DON'T MODIFY ANYTHING IN THIS CELL\n",
      "\"\"\"\n",
      "%matplotlib inline\n",
      "%config InlineBackend.figure_format = 'retina'\n",
      "\n",
      "import tensorflow as tf\n",
      "import pickle\n",
      "import helper\n",
      "import random\n",
      "\n",
      "# Set batch size if not already set\n",
      "try:\n",
      "    if batch_size:\n",
      "        pass\n",
      "except NameError:\n",
      "    batch_size = 64\n",
      "\n",
      "save_model_path = './image_classification'\n",
      "n_samples = 4\n",
      "top_n_predictions = 3\n",
      "\n",
      "def test_model():\n",
      "    \"\"\"\n",
      "    Test the saved model against the test dataset\n",
      "    \"\"\"\n",
      "\n",
      "    test_features, test_labels = pickle.load(open('preprocess_training.p', mode='rb'))\n",
      "    loaded_graph = tf.Graph()\n",
      "\n",
      "    with tf.Session(graph=loaded_graph) as sess:\n",
      "        # Load model\n",
      "        loader = tf.train.import_meta_graph(save_model_path + '.meta')\n",
      "        loader.restore(sess, save_model_path)\n",
      "\n",
      "        # Get Tensors from loaded model\n",
      "        loaded_x = loaded_graph.get_tensor_by_name('x:0')\n",
      "        loaded_y = loaded_graph.get_tensor_by_name('y:0')\n",
      "        loaded_keep_prob = loaded_graph.get_tensor_by_name('keep_prob:0')\n",
      "        loaded_logits = loaded_graph.get_tensor_by_name('logits:0')\n",
      "        loaded_acc = loaded_graph.get_tensor_by_name('accuracy:0')\n",
      "        \n",
      "        # Get accuracy in batches for memory limitations\n",
      "        test_batch_acc_total = 0\n",
      "        test_batch_count = 0\n",
      "        \n",
      "        for train_feature_batch, train_label_batch in helper.batch_features_labels(test_features, test_labels, batch_size):\n",
      "            test_batch_acc_total += sess.run(\n",
      "                loaded_acc,\n",
      "                feed_dict={loaded_x: train_feature_batch, loaded_y: train_label_batch, loaded_keep_prob: 1.0})\n",
      "            test_batch_count += 1\n",
      "\n",
      "        print('Testing Accuracy: {}\\n'.format(test_batch_acc_total/test_batch_count))\n",
      "\n",
      "        # Print Random Samples\n",
      "        random_test_features, random_test_labels = tuple(zip(*random.sample(list(zip(test_features, test_labels)), n_samples)))\n",
      "        random_test_predictions = sess.run(\n",
      "            tf.nn.top_k(tf.nn.softmax(loaded_logits), top_n_predictions),\n",
      "            feed_dict={loaded_x: random_test_features, loaded_y: random_test_labels, loaded_keep_prob: 1.0})\n",
      "        helper.display_image_predictions(random_test_features, random_test_labels, random_test_predictions)\n",
      "\n",
      "\n",
      "test_model()"
     ],
     "language": "python",
     "metadata": {},
     "outputs": [
      {
       "output_type": "stream",
       "stream": "stdout",
       "text": [
        "INFO:tensorflow:Restoring parameters from ./image_classification\n"
       ]
      },
      {
       "output_type": "stream",
       "stream": "stderr",
       "text": [
        "INFO:tensorflow:Restoring parameters from ./image_classification\n"
       ]
      },
      {
       "output_type": "stream",
       "stream": "stdout",
       "text": [
        "Testing Accuracy: 0.6175409376621246\n",
        "\n"
       ]
      },
      {
       "metadata": {
        "png": {
         "height": 319,
         "width": 355
        }
       },
       "output_type": "display_data",
       "png": "[encoded data removed]",
       "text": [
        "<matplotlib.figure.Figure at 0x7f66e01cd6a0>"
       ]
      }
     ],
     "prompt_number": 30
    },
    {
     "cell_type": "markdown",
     "metadata": {},
     "source": [
      "## Why 50-80% Accuracy?\n",
      "You might be wondering why you can't get an accuracy any higher. First things first, 50% isn't bad for a simple CNN.  Pure guessing would get you 10% accuracy. That's because there are many more techniques that can be applied to your model and we recemmond that once you are done with this project, you explore!\n",
      "\n",
      "## Submitting This Project\n",
      "When submitting this project, make sure to run all the cells before saving the notebook.  Save the notebook file as \"image_classification.ipynb\" and save it as a HTML file under \"File\" -> \"Download as\".  Include the \"helper.py\" and \"problem_unittests.py\" files in your submission."
     ]
    }
   ],
   "metadata": {}
  }
 ]
}